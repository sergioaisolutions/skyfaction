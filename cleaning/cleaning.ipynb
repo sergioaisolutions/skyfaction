{
 "cells": [
  {
   "cell_type": "markdown",
   "source": [
    "# CLEANING"
   ],
   "metadata": {}
  },
  {
   "cell_type": "markdown",
   "source": [
    "## IMPORTING THE REQUIRED LIBRARIES"
   ],
   "metadata": {}
  },
  {
   "cell_type": "code",
   "execution_count": 1,
   "source": [
    "import pandas as pd\r\n",
    "import numpy as np"
   ],
   "outputs": [],
   "metadata": {}
  },
  {
   "cell_type": "markdown",
   "source": [
    "## IMPORTING THE TRAINING AND TESTING DATAFRAMES"
   ],
   "metadata": {}
  },
  {
   "cell_type": "code",
   "execution_count": 2,
   "source": [
    "def import_data(path):\r\n",
    "    dataframe = pd.read_csv(path)\r\n",
    "    if 'Unnamed: 0' in dataframe.columns:\r\n",
    "        return dataframe.drop('Unnamed: 0', axis = 1)\r\n",
    "    return dataframe\r\n",
    "\r\n",
    "passengers_training = import_data('../data/passengers_training.csv')\r\n",
    "passengers_testing = import_data('../data/passengers_testing.csv')"
   ],
   "outputs": [],
   "metadata": {}
  },
  {
   "cell_type": "markdown",
   "source": [
    "## DROPPING THE ID COLUMN FROM BOTH DATAFRAMES"
   ],
   "metadata": {}
  },
  {
   "cell_type": "code",
   "execution_count": 3,
   "source": [
    "def drop_id(dataframe, id):\r\n",
    "    return dataframe.drop(id, axis = 1)\r\n",
    "\r\n",
    "passengers_training = drop_id(passengers_training, 'id')\r\n",
    "passengers_testing = drop_id(passengers_testing, 'id')"
   ],
   "outputs": [],
   "metadata": {}
  },
  {
   "cell_type": "markdown",
   "source": [
    "## NORMALIZING THE NAMES OF THE DATAFRAMES COLUMNS"
   ],
   "metadata": {}
  },
  {
   "cell_type": "code",
   "execution_count": 4,
   "source": [
    "def normalize_columns(dataframe):\r\n",
    "    normalized_columns = list()\r\n",
    "    for column in dataframe.columns:\r\n",
    "        normalized_columns.append(column.replace(' ', '_').lower())\r\n",
    "    dataframe.columns = normalized_columns\r\n",
    "    return dataframe\r\n",
    "\r\n",
    "passengers_training = normalize_columns(passengers_training)\r\n",
    "passengers_testing = normalize_columns(passengers_testing)"
   ],
   "outputs": [],
   "metadata": {}
  },
  {
   "cell_type": "markdown",
   "source": [
    "## RENAMING THE VALUES OF THE CUSTOMER TYPE, TYPE OF TRAVEL AND SATISFACTION COLUMNS"
   ],
   "metadata": {}
  },
  {
   "cell_type": "code",
   "execution_count": 5,
   "source": [
    "def replace_values(dataframe, column, replacements):\r\n",
    "    dataframe[column] = dataframe[column].replace(replacements)\r\n",
    "    return dataframe\r\n",
    "\r\n",
    "customer_type_replacements = {'disloyal Customer': 'Disloyal Customer'}\r\n",
    "type_of_travel_replacements = {'Business travel': 'Business Travel'}\r\n",
    "satisfaction_replacements = {'neutral or dissatisfied': 'Not satisfied', 'satisfied': 'Satisfied'}\r\n",
    "\r\n",
    "passengers_training = replace_values(passengers_training, 'customer_type', customer_type_replacements)\r\n",
    "passengers_training = replace_values(passengers_training, 'type_of_travel', type_of_travel_replacements)\r\n",
    "passengers_training = replace_values(passengers_training, 'satisfaction', satisfaction_replacements)\r\n",
    "\r\n",
    "passengers_testing = replace_values(passengers_testing, 'customer_type', customer_type_replacements)\r\n",
    "passengers_testing = replace_values(passengers_testing, 'type_of_travel', type_of_travel_replacements)\r\n",
    "passengers_testing = replace_values(passengers_testing, 'satisfaction', satisfaction_replacements)"
   ],
   "outputs": [],
   "metadata": {}
  },
  {
   "cell_type": "markdown",
   "source": [
    "## CHANGING THE TYPE OF THE ARRIVAL DELAY IN MINUTES TO INT64"
   ],
   "metadata": {}
  },
  {
   "cell_type": "code",
   "execution_count": 6,
   "source": [
    "def change_type(dataframe, column, new_type):\r\n",
    "    dataframe[column] = dataframe[column].astype(new_type)\r\n",
    "    return dataframe\r\n",
    "\r\n",
    "passengers_training = change_type(passengers_training, 'arrival_delay_in_minutes', 'Int64')\r\n",
    "passengers_testing = change_type(passengers_testing, 'arrival_delay_in_minutes', 'Int64')"
   ],
   "outputs": [],
   "metadata": {}
  },
  {
   "cell_type": "markdown",
   "source": [
    "## EXPORTING THE CLEANED TRAINING AND TESTING DATAFRAMES"
   ],
   "metadata": {}
  },
  {
   "cell_type": "code",
   "execution_count": 7,
   "source": [
    "def export_data(dataframe, path, filename):\r\n",
    "    return dataframe.to_csv(f'{path}/{filename}.csv', index = False)\r\n",
    "\r\n",
    "export_data(passengers_training, 'data', 'training_cleaned')\r\n",
    "export_data(passengers_training, 'data', 'testing_cleaned')"
   ],
   "outputs": [],
   "metadata": {}
  }
 ],
 "metadata": {
  "orig_nbformat": 4,
  "language_info": {
   "name": "python",
   "version": "3.9.7",
   "mimetype": "text/x-python",
   "codemirror_mode": {
    "name": "ipython",
    "version": 3
   },
   "pygments_lexer": "ipython3",
   "nbconvert_exporter": "python",
   "file_extension": ".py"
  },
  "kernelspec": {
   "name": "python3",
   "display_name": "Python 3.9.7 64-bit ('env': venv)"
  },
  "interpreter": {
   "hash": "65a27a56881ba5c235de85f95c6fd7870fb4323690398d0ce4195e01547ebec5"
  }
 },
 "nbformat": 4,
 "nbformat_minor": 2
}